{
 "cells": [
  {
   "cell_type": "code",
   "execution_count": 1,
   "id": "c8918f1d",
   "metadata": {
    "_cell_guid": "a8e63ba0-b9fc-4de1-bd14-d7dafd1c8ebc",
    "_uuid": "714b1c76-e988-4df8-8148-2054fd223031",
    "collapsed": false,
    "execution": {
     "iopub.execute_input": "2022-08-13T00:29:44.472322Z",
     "iopub.status.busy": "2022-08-13T00:29:44.471847Z",
     "iopub.status.idle": "2022-08-13T00:29:45.690731Z",
     "shell.execute_reply": "2022-08-13T00:29:45.689625Z"
    },
    "jupyter": {
     "outputs_hidden": false
    },
    "papermill": {
     "duration": 1.233562,
     "end_time": "2022-08-13T00:29:45.693713",
     "exception": false,
     "start_time": "2022-08-13T00:29:44.460151",
     "status": "completed"
    },
    "tags": []
   },
   "outputs": [],
   "source": [
    "import os\n",
    "import pandas as pd\n",
    "import numpy as np\n",
    "import matplotlib.pyplot as plt\n",
    "import seaborn as sns\n",
    "%matplotlib inline\n",
    "\n",
    "from PIL import Image\n",
    "from glob import glob"
   ]
  },
  {
   "cell_type": "markdown",
   "id": "ba84e303",
   "metadata": {
    "_cell_guid": "c0f17146-17e9-462d-9d6c-9f14d3b7ba81",
    "_uuid": "c27b9176-594d-4d1d-96e4-95f48d31ec66",
    "papermill": {
     "duration": 0.008163,
     "end_time": "2022-08-13T00:29:45.710650",
     "exception": false,
     "start_time": "2022-08-13T00:29:45.702487",
     "status": "completed"
    },
    "tags": []
   },
   "source": [
    "# Loading the data"
   ]
  },
  {
   "cell_type": "code",
   "execution_count": 2,
   "id": "31b99054",
   "metadata": {
    "_cell_guid": "be4dd6c8-0e84-4d8b-9340-1fb06128c12a",
    "_uuid": "a6bd1383-b3d1-4ed8-b97b-2a5487ad5a6b",
    "collapsed": false,
    "execution": {
     "iopub.execute_input": "2022-08-13T00:29:45.729149Z",
     "iopub.status.busy": "2022-08-13T00:29:45.728759Z",
     "iopub.status.idle": "2022-08-13T00:29:45.796799Z",
     "shell.execute_reply": "2022-08-13T00:29:45.795426Z"
    },
    "jupyter": {
     "outputs_hidden": false
    },
    "papermill": {
     "duration": 0.081387,
     "end_time": "2022-08-13T00:29:45.800500",
     "exception": false,
     "start_time": "2022-08-13T00:29:45.719113",
     "status": "completed"
    },
    "tags": []
   },
   "outputs": [
    {
     "name": "stdout",
     "output_type": "stream",
     "text": [
      "<class 'pandas.core.frame.DataFrame'>\n",
      "RangeIndex: 10015 entries, 0 to 10014\n",
      "Data columns (total 7 columns):\n",
      " #   Column        Non-Null Count  Dtype  \n",
      "---  ------        --------------  -----  \n",
      " 0   lesion_id     10015 non-null  object \n",
      " 1   image_id      10015 non-null  object \n",
      " 2   dx            10015 non-null  object \n",
      " 3   dx_type       10015 non-null  object \n",
      " 4   age           9958 non-null   float64\n",
      " 5   sex           10015 non-null  object \n",
      " 6   localization  10015 non-null  object \n",
      "dtypes: float64(1), object(6)\n",
      "memory usage: 547.8+ KB\n"
     ]
    }
   ],
   "source": [
    "ham=pd.read_csv(os.path.join('/kaggle/input/skin-cancer-mnist-ham10000','HAM10000_metadata.csv'))\n",
    "ham.info()"
   ]
  },
  {
   "cell_type": "code",
   "execution_count": 3,
   "id": "85cbbbcb",
   "metadata": {
    "_cell_guid": "8f2538e4-7dee-4ac1-a7f2-e3013ddd5076",
    "_uuid": "3c002937-91b4-42cc-b46a-2d11bc36e69d",
    "collapsed": false,
    "execution": {
     "iopub.execute_input": "2022-08-13T00:29:45.821288Z",
     "iopub.status.busy": "2022-08-13T00:29:45.820221Z",
     "iopub.status.idle": "2022-08-13T00:29:46.835571Z",
     "shell.execute_reply": "2022-08-13T00:29:46.834326Z"
    },
    "jupyter": {
     "outputs_hidden": false
    },
    "papermill": {
     "duration": 1.028174,
     "end_time": "2022-08-13T00:29:46.838810",
     "exception": false,
     "start_time": "2022-08-13T00:29:45.810636",
     "status": "completed"
    },
    "tags": []
   },
   "outputs": [],
   "source": [
    "#Get folder path\n",
    "base_skin_dir = os.path.join('..', 'input')\n",
    "\n",
    "# loop into folder and loop all the images of the folder\n",
    "imageid_path_dict = {os.path.splitext(os.path.basename(x))[0]: x\n",
    "                     for x in glob(os.path.join(base_skin_dir,\"skin-cancer-mnist-ham10000/\", '*', '*.jpg'))}"
   ]
  },
  {
   "cell_type": "code",
   "execution_count": 4,
   "id": "17604ec1",
   "metadata": {
    "_cell_guid": "fb6a350b-1d0c-44e5-b6e4-b10c8b508390",
    "_uuid": "cc93ffee-638c-4f03-a8e8-67af713e5a27",
    "collapsed": false,
    "execution": {
     "iopub.execute_input": "2022-08-13T00:29:46.859110Z",
     "iopub.status.busy": "2022-08-13T00:29:46.858636Z",
     "iopub.status.idle": "2022-08-13T00:33:54.538694Z",
     "shell.execute_reply": "2022-08-13T00:33:54.536746Z"
    },
    "jupyter": {
     "outputs_hidden": false
    },
    "papermill": {
     "duration": 247.695998,
     "end_time": "2022-08-13T00:33:54.544182",
     "exception": false,
     "start_time": "2022-08-13T00:29:46.848184",
     "status": "completed"
    },
    "tags": []
   },
   "outputs": [],
   "source": [
    "# Adding cell_type and image_path columns \n",
    "ham['path'] = ham['image_id'].map(imageid_path_dict.get)\n",
    "# Adding image pixels\n",
    "# Reshape image with 7 x 7\n",
    "ham['image_pixel'] = ham['path'].map(lambda x: np.asarray(Image.open(x).resize((7,7))).flatten())"
   ]
  },
  {
   "cell_type": "code",
   "execution_count": 5,
   "id": "30daadbb",
   "metadata": {
    "_cell_guid": "cac29ba6-1c22-41fb-813d-076d5f6ebff3",
    "_uuid": "7fd6d05d-353c-4737-aaa4-246278b5424b",
    "collapsed": false,
    "execution": {
     "iopub.execute_input": "2022-08-13T00:33:54.570453Z",
     "iopub.status.busy": "2022-08-13T00:33:54.569922Z",
     "iopub.status.idle": "2022-08-13T00:33:54.620712Z",
     "shell.execute_reply": "2022-08-13T00:33:54.619548Z"
    },
    "jupyter": {
     "outputs_hidden": false
    },
    "papermill": {
     "duration": 0.065024,
     "end_time": "2022-08-13T00:33:54.623921",
     "exception": false,
     "start_time": "2022-08-13T00:33:54.558897",
     "status": "completed"
    },
    "tags": []
   },
   "outputs": [
    {
     "data": {
      "text/html": [
       "<div>\n",
       "<style scoped>\n",
       "    .dataframe tbody tr th:only-of-type {\n",
       "        vertical-align: middle;\n",
       "    }\n",
       "\n",
       "    .dataframe tbody tr th {\n",
       "        vertical-align: top;\n",
       "    }\n",
       "\n",
       "    .dataframe thead th {\n",
       "        text-align: right;\n",
       "    }\n",
       "</style>\n",
       "<table border=\"1\" class=\"dataframe\">\n",
       "  <thead>\n",
       "    <tr style=\"text-align: right;\">\n",
       "      <th></th>\n",
       "      <th>lesion_id</th>\n",
       "      <th>image_id</th>\n",
       "      <th>dx</th>\n",
       "      <th>dx_type</th>\n",
       "      <th>age</th>\n",
       "      <th>sex</th>\n",
       "      <th>localization</th>\n",
       "      <th>path</th>\n",
       "      <th>image_pixel</th>\n",
       "    </tr>\n",
       "  </thead>\n",
       "  <tbody>\n",
       "    <tr>\n",
       "      <th>0</th>\n",
       "      <td>HAM_0000118</td>\n",
       "      <td>ISIC_0027419</td>\n",
       "      <td>bkl</td>\n",
       "      <td>histo</td>\n",
       "      <td>80.0</td>\n",
       "      <td>male</td>\n",
       "      <td>scalp</td>\n",
       "      <td>../input/skin-cancer-mnist-ham10000/ham10000_i...</td>\n",
       "      <td>[201, 157, 189, 213, 170, 201, 217, 175, 201, ...</td>\n",
       "    </tr>\n",
       "    <tr>\n",
       "      <th>1</th>\n",
       "      <td>HAM_0000118</td>\n",
       "      <td>ISIC_0025030</td>\n",
       "      <td>bkl</td>\n",
       "      <td>histo</td>\n",
       "      <td>80.0</td>\n",
       "      <td>male</td>\n",
       "      <td>scalp</td>\n",
       "      <td>../input/skin-cancer-mnist-ham10000/ham10000_i...</td>\n",
       "      <td>[128, 97, 125, 185, 138, 166, 210, 167, 203, 2...</td>\n",
       "    </tr>\n",
       "    <tr>\n",
       "      <th>2</th>\n",
       "      <td>HAM_0002730</td>\n",
       "      <td>ISIC_0026769</td>\n",
       "      <td>bkl</td>\n",
       "      <td>histo</td>\n",
       "      <td>80.0</td>\n",
       "      <td>male</td>\n",
       "      <td>scalp</td>\n",
       "      <td>../input/skin-cancer-mnist-ham10000/ham10000_i...</td>\n",
       "      <td>[204, 146, 162, 212, 149, 161, 218, 159, 180, ...</td>\n",
       "    </tr>\n",
       "    <tr>\n",
       "      <th>3</th>\n",
       "      <td>HAM_0002730</td>\n",
       "      <td>ISIC_0025661</td>\n",
       "      <td>bkl</td>\n",
       "      <td>histo</td>\n",
       "      <td>80.0</td>\n",
       "      <td>male</td>\n",
       "      <td>scalp</td>\n",
       "      <td>../input/skin-cancer-mnist-ham10000/ham10000_i...</td>\n",
       "      <td>[148, 105, 120, 201, 144, 158, 210, 149, 157, ...</td>\n",
       "    </tr>\n",
       "    <tr>\n",
       "      <th>4</th>\n",
       "      <td>HAM_0001466</td>\n",
       "      <td>ISIC_0031633</td>\n",
       "      <td>bkl</td>\n",
       "      <td>histo</td>\n",
       "      <td>75.0</td>\n",
       "      <td>male</td>\n",
       "      <td>ear</td>\n",
       "      <td>../input/skin-cancer-mnist-ham10000/ham10000_i...</td>\n",
       "      <td>[208, 160, 192, 226, 180, 208, 222, 184, 206, ...</td>\n",
       "    </tr>\n",
       "    <tr>\n",
       "      <th>...</th>\n",
       "      <td>...</td>\n",
       "      <td>...</td>\n",
       "      <td>...</td>\n",
       "      <td>...</td>\n",
       "      <td>...</td>\n",
       "      <td>...</td>\n",
       "      <td>...</td>\n",
       "      <td>...</td>\n",
       "      <td>...</td>\n",
       "    </tr>\n",
       "    <tr>\n",
       "      <th>10010</th>\n",
       "      <td>HAM_0002867</td>\n",
       "      <td>ISIC_0033084</td>\n",
       "      <td>akiec</td>\n",
       "      <td>histo</td>\n",
       "      <td>40.0</td>\n",
       "      <td>male</td>\n",
       "      <td>abdomen</td>\n",
       "      <td>../input/skin-cancer-mnist-ham10000/ham10000_i...</td>\n",
       "      <td>[207, 187, 202, 210, 185, 195, 214, 183, 187, ...</td>\n",
       "    </tr>\n",
       "    <tr>\n",
       "      <th>10011</th>\n",
       "      <td>HAM_0002867</td>\n",
       "      <td>ISIC_0033550</td>\n",
       "      <td>akiec</td>\n",
       "      <td>histo</td>\n",
       "      <td>40.0</td>\n",
       "      <td>male</td>\n",
       "      <td>abdomen</td>\n",
       "      <td>../input/skin-cancer-mnist-ham10000/ham10000_i...</td>\n",
       "      <td>[116, 100, 100, 164, 140, 142, 195, 166, 169, ...</td>\n",
       "    </tr>\n",
       "    <tr>\n",
       "      <th>10012</th>\n",
       "      <td>HAM_0002867</td>\n",
       "      <td>ISIC_0033536</td>\n",
       "      <td>akiec</td>\n",
       "      <td>histo</td>\n",
       "      <td>40.0</td>\n",
       "      <td>male</td>\n",
       "      <td>abdomen</td>\n",
       "      <td>../input/skin-cancer-mnist-ham10000/ham10000_i...</td>\n",
       "      <td>[183, 165, 170, 211, 188, 195, 235, 212, 218, ...</td>\n",
       "    </tr>\n",
       "    <tr>\n",
       "      <th>10013</th>\n",
       "      <td>HAM_0000239</td>\n",
       "      <td>ISIC_0032854</td>\n",
       "      <td>akiec</td>\n",
       "      <td>histo</td>\n",
       "      <td>80.0</td>\n",
       "      <td>male</td>\n",
       "      <td>face</td>\n",
       "      <td>../input/skin-cancer-mnist-ham10000/ham10000_i...</td>\n",
       "      <td>[168, 126, 144, 181, 138, 158, 186, 140, 154, ...</td>\n",
       "    </tr>\n",
       "    <tr>\n",
       "      <th>10014</th>\n",
       "      <td>HAM_0003521</td>\n",
       "      <td>ISIC_0032258</td>\n",
       "      <td>mel</td>\n",
       "      <td>histo</td>\n",
       "      <td>70.0</td>\n",
       "      <td>female</td>\n",
       "      <td>back</td>\n",
       "      <td>../input/skin-cancer-mnist-ham10000/ham10000_i...</td>\n",
       "      <td>[178, 145, 124, 178, 145, 123, 177, 142, 115, ...</td>\n",
       "    </tr>\n",
       "  </tbody>\n",
       "</table>\n",
       "<p>10015 rows × 9 columns</p>\n",
       "</div>"
      ],
      "text/plain": [
       "         lesion_id      image_id     dx dx_type   age     sex localization  \\\n",
       "0      HAM_0000118  ISIC_0027419    bkl   histo  80.0    male        scalp   \n",
       "1      HAM_0000118  ISIC_0025030    bkl   histo  80.0    male        scalp   \n",
       "2      HAM_0002730  ISIC_0026769    bkl   histo  80.0    male        scalp   \n",
       "3      HAM_0002730  ISIC_0025661    bkl   histo  80.0    male        scalp   \n",
       "4      HAM_0001466  ISIC_0031633    bkl   histo  75.0    male          ear   \n",
       "...            ...           ...    ...     ...   ...     ...          ...   \n",
       "10010  HAM_0002867  ISIC_0033084  akiec   histo  40.0    male      abdomen   \n",
       "10011  HAM_0002867  ISIC_0033550  akiec   histo  40.0    male      abdomen   \n",
       "10012  HAM_0002867  ISIC_0033536  akiec   histo  40.0    male      abdomen   \n",
       "10013  HAM_0000239  ISIC_0032854  akiec   histo  80.0    male         face   \n",
       "10014  HAM_0003521  ISIC_0032258    mel   histo  70.0  female         back   \n",
       "\n",
       "                                                    path  \\\n",
       "0      ../input/skin-cancer-mnist-ham10000/ham10000_i...   \n",
       "1      ../input/skin-cancer-mnist-ham10000/ham10000_i...   \n",
       "2      ../input/skin-cancer-mnist-ham10000/ham10000_i...   \n",
       "3      ../input/skin-cancer-mnist-ham10000/ham10000_i...   \n",
       "4      ../input/skin-cancer-mnist-ham10000/ham10000_i...   \n",
       "...                                                  ...   \n",
       "10010  ../input/skin-cancer-mnist-ham10000/ham10000_i...   \n",
       "10011  ../input/skin-cancer-mnist-ham10000/ham10000_i...   \n",
       "10012  ../input/skin-cancer-mnist-ham10000/ham10000_i...   \n",
       "10013  ../input/skin-cancer-mnist-ham10000/ham10000_i...   \n",
       "10014  ../input/skin-cancer-mnist-ham10000/ham10000_i...   \n",
       "\n",
       "                                             image_pixel  \n",
       "0      [201, 157, 189, 213, 170, 201, 217, 175, 201, ...  \n",
       "1      [128, 97, 125, 185, 138, 166, 210, 167, 203, 2...  \n",
       "2      [204, 146, 162, 212, 149, 161, 218, 159, 180, ...  \n",
       "3      [148, 105, 120, 201, 144, 158, 210, 149, 157, ...  \n",
       "4      [208, 160, 192, 226, 180, 208, 222, 184, 206, ...  \n",
       "...                                                  ...  \n",
       "10010  [207, 187, 202, 210, 185, 195, 214, 183, 187, ...  \n",
       "10011  [116, 100, 100, 164, 140, 142, 195, 166, 169, ...  \n",
       "10012  [183, 165, 170, 211, 188, 195, 235, 212, 218, ...  \n",
       "10013  [168, 126, 144, 181, 138, 158, 186, 140, 154, ...  \n",
       "10014  [178, 145, 124, 178, 145, 123, 177, 142, 115, ...  \n",
       "\n",
       "[10015 rows x 9 columns]"
      ]
     },
     "execution_count": 5,
     "metadata": {},
     "output_type": "execute_result"
    }
   ],
   "source": [
    "#Check on ham dataframe\n",
    "ham"
   ]
  },
  {
   "cell_type": "code",
   "execution_count": 6,
   "id": "f497d306",
   "metadata": {
    "_cell_guid": "d40643e3-5102-4137-8d3c-f7a310ea60ff",
    "_uuid": "f245577b-8ad7-484b-afc6-ad98123d6d99",
    "collapsed": false,
    "execution": {
     "iopub.execute_input": "2022-08-13T00:33:54.645095Z",
     "iopub.status.busy": "2022-08-13T00:33:54.644284Z",
     "iopub.status.idle": "2022-08-13T00:33:55.643679Z",
     "shell.execute_reply": "2022-08-13T00:33:55.642637Z"
    },
    "jupyter": {
     "outputs_hidden": false
    },
    "papermill": {
     "duration": 1.012981,
     "end_time": "2022-08-13T00:33:55.646435",
     "exception": false,
     "start_time": "2022-08-13T00:33:54.633454",
     "status": "completed"
    },
    "tags": []
   },
   "outputs": [
    {
     "data": {
      "text/html": [
       "<div>\n",
       "<style scoped>\n",
       "    .dataframe tbody tr th:only-of-type {\n",
       "        vertical-align: middle;\n",
       "    }\n",
       "\n",
       "    .dataframe tbody tr th {\n",
       "        vertical-align: top;\n",
       "    }\n",
       "\n",
       "    .dataframe thead th {\n",
       "        text-align: right;\n",
       "    }\n",
       "</style>\n",
       "<table border=\"1\" class=\"dataframe\">\n",
       "  <thead>\n",
       "    <tr style=\"text-align: right;\">\n",
       "      <th></th>\n",
       "      <th>c0</th>\n",
       "      <th>c1</th>\n",
       "      <th>c2</th>\n",
       "      <th>c3</th>\n",
       "      <th>c4</th>\n",
       "      <th>c5</th>\n",
       "      <th>c6</th>\n",
       "      <th>c7</th>\n",
       "      <th>c8</th>\n",
       "      <th>c9</th>\n",
       "      <th>...</th>\n",
       "      <th>c137</th>\n",
       "      <th>c138</th>\n",
       "      <th>c139</th>\n",
       "      <th>c140</th>\n",
       "      <th>c141</th>\n",
       "      <th>c142</th>\n",
       "      <th>c143</th>\n",
       "      <th>c144</th>\n",
       "      <th>c145</th>\n",
       "      <th>c146</th>\n",
       "    </tr>\n",
       "  </thead>\n",
       "  <tbody>\n",
       "    <tr>\n",
       "      <th>0</th>\n",
       "      <td>201</td>\n",
       "      <td>157</td>\n",
       "      <td>189</td>\n",
       "      <td>213</td>\n",
       "      <td>170</td>\n",
       "      <td>201</td>\n",
       "      <td>217</td>\n",
       "      <td>175</td>\n",
       "      <td>201</td>\n",
       "      <td>214</td>\n",
       "      <td>...</td>\n",
       "      <td>192</td>\n",
       "      <td>212</td>\n",
       "      <td>163</td>\n",
       "      <td>185</td>\n",
       "      <td>204</td>\n",
       "      <td>162</td>\n",
       "      <td>182</td>\n",
       "      <td>186</td>\n",
       "      <td>144</td>\n",
       "      <td>167</td>\n",
       "    </tr>\n",
       "    <tr>\n",
       "      <th>1</th>\n",
       "      <td>128</td>\n",
       "      <td>97</td>\n",
       "      <td>125</td>\n",
       "      <td>185</td>\n",
       "      <td>138</td>\n",
       "      <td>166</td>\n",
       "      <td>210</td>\n",
       "      <td>167</td>\n",
       "      <td>203</td>\n",
       "      <td>216</td>\n",
       "      <td>...</td>\n",
       "      <td>195</td>\n",
       "      <td>213</td>\n",
       "      <td>178</td>\n",
       "      <td>197</td>\n",
       "      <td>186</td>\n",
       "      <td>138</td>\n",
       "      <td>151</td>\n",
       "      <td>94</td>\n",
       "      <td>68</td>\n",
       "      <td>77</td>\n",
       "    </tr>\n",
       "    <tr>\n",
       "      <th>2</th>\n",
       "      <td>204</td>\n",
       "      <td>146</td>\n",
       "      <td>162</td>\n",
       "      <td>212</td>\n",
       "      <td>149</td>\n",
       "      <td>161</td>\n",
       "      <td>218</td>\n",
       "      <td>159</td>\n",
       "      <td>180</td>\n",
       "      <td>210</td>\n",
       "      <td>...</td>\n",
       "      <td>190</td>\n",
       "      <td>219</td>\n",
       "      <td>169</td>\n",
       "      <td>184</td>\n",
       "      <td>202</td>\n",
       "      <td>153</td>\n",
       "      <td>173</td>\n",
       "      <td>182</td>\n",
       "      <td>141</td>\n",
       "      <td>162</td>\n",
       "    </tr>\n",
       "    <tr>\n",
       "      <th>3</th>\n",
       "      <td>148</td>\n",
       "      <td>105</td>\n",
       "      <td>120</td>\n",
       "      <td>201</td>\n",
       "      <td>144</td>\n",
       "      <td>158</td>\n",
       "      <td>210</td>\n",
       "      <td>149</td>\n",
       "      <td>157</td>\n",
       "      <td>212</td>\n",
       "      <td>...</td>\n",
       "      <td>154</td>\n",
       "      <td>187</td>\n",
       "      <td>143</td>\n",
       "      <td>156</td>\n",
       "      <td>162</td>\n",
       "      <td>129</td>\n",
       "      <td>146</td>\n",
       "      <td>75</td>\n",
       "      <td>54</td>\n",
       "      <td>63</td>\n",
       "    </tr>\n",
       "    <tr>\n",
       "      <th>4</th>\n",
       "      <td>208</td>\n",
       "      <td>160</td>\n",
       "      <td>192</td>\n",
       "      <td>226</td>\n",
       "      <td>180</td>\n",
       "      <td>208</td>\n",
       "      <td>222</td>\n",
       "      <td>184</td>\n",
       "      <td>206</td>\n",
       "      <td>207</td>\n",
       "      <td>...</td>\n",
       "      <td>203</td>\n",
       "      <td>239</td>\n",
       "      <td>195</td>\n",
       "      <td>217</td>\n",
       "      <td>234</td>\n",
       "      <td>184</td>\n",
       "      <td>211</td>\n",
       "      <td>215</td>\n",
       "      <td>182</td>\n",
       "      <td>196</td>\n",
       "    </tr>\n",
       "    <tr>\n",
       "      <th>...</th>\n",
       "      <td>...</td>\n",
       "      <td>...</td>\n",
       "      <td>...</td>\n",
       "      <td>...</td>\n",
       "      <td>...</td>\n",
       "      <td>...</td>\n",
       "      <td>...</td>\n",
       "      <td>...</td>\n",
       "      <td>...</td>\n",
       "      <td>...</td>\n",
       "      <td>...</td>\n",
       "      <td>...</td>\n",
       "      <td>...</td>\n",
       "      <td>...</td>\n",
       "      <td>...</td>\n",
       "      <td>...</td>\n",
       "      <td>...</td>\n",
       "      <td>...</td>\n",
       "      <td>...</td>\n",
       "      <td>...</td>\n",
       "      <td>...</td>\n",
       "    </tr>\n",
       "    <tr>\n",
       "      <th>10010</th>\n",
       "      <td>207</td>\n",
       "      <td>187</td>\n",
       "      <td>202</td>\n",
       "      <td>210</td>\n",
       "      <td>185</td>\n",
       "      <td>195</td>\n",
       "      <td>214</td>\n",
       "      <td>183</td>\n",
       "      <td>187</td>\n",
       "      <td>217</td>\n",
       "      <td>...</td>\n",
       "      <td>185</td>\n",
       "      <td>223</td>\n",
       "      <td>194</td>\n",
       "      <td>197</td>\n",
       "      <td>223</td>\n",
       "      <td>202</td>\n",
       "      <td>206</td>\n",
       "      <td>209</td>\n",
       "      <td>187</td>\n",
       "      <td>189</td>\n",
       "    </tr>\n",
       "    <tr>\n",
       "      <th>10011</th>\n",
       "      <td>116</td>\n",
       "      <td>100</td>\n",
       "      <td>100</td>\n",
       "      <td>164</td>\n",
       "      <td>140</td>\n",
       "      <td>142</td>\n",
       "      <td>195</td>\n",
       "      <td>166</td>\n",
       "      <td>169</td>\n",
       "      <td>211</td>\n",
       "      <td>...</td>\n",
       "      <td>179</td>\n",
       "      <td>205</td>\n",
       "      <td>177</td>\n",
       "      <td>177</td>\n",
       "      <td>183</td>\n",
       "      <td>159</td>\n",
       "      <td>157</td>\n",
       "      <td>115</td>\n",
       "      <td>98</td>\n",
       "      <td>95</td>\n",
       "    </tr>\n",
       "    <tr>\n",
       "      <th>10012</th>\n",
       "      <td>183</td>\n",
       "      <td>165</td>\n",
       "      <td>170</td>\n",
       "      <td>211</td>\n",
       "      <td>188</td>\n",
       "      <td>195</td>\n",
       "      <td>235</td>\n",
       "      <td>212</td>\n",
       "      <td>218</td>\n",
       "      <td>243</td>\n",
       "      <td>...</td>\n",
       "      <td>208</td>\n",
       "      <td>242</td>\n",
       "      <td>217</td>\n",
       "      <td>216</td>\n",
       "      <td>229</td>\n",
       "      <td>206</td>\n",
       "      <td>205</td>\n",
       "      <td>202</td>\n",
       "      <td>181</td>\n",
       "      <td>176</td>\n",
       "    </tr>\n",
       "    <tr>\n",
       "      <th>10013</th>\n",
       "      <td>168</td>\n",
       "      <td>126</td>\n",
       "      <td>144</td>\n",
       "      <td>181</td>\n",
       "      <td>138</td>\n",
       "      <td>158</td>\n",
       "      <td>186</td>\n",
       "      <td>140</td>\n",
       "      <td>154</td>\n",
       "      <td>190</td>\n",
       "      <td>...</td>\n",
       "      <td>175</td>\n",
       "      <td>195</td>\n",
       "      <td>176</td>\n",
       "      <td>187</td>\n",
       "      <td>192</td>\n",
       "      <td>171</td>\n",
       "      <td>181</td>\n",
       "      <td>187</td>\n",
       "      <td>159</td>\n",
       "      <td>170</td>\n",
       "    </tr>\n",
       "    <tr>\n",
       "      <th>10014</th>\n",
       "      <td>178</td>\n",
       "      <td>145</td>\n",
       "      <td>124</td>\n",
       "      <td>178</td>\n",
       "      <td>145</td>\n",
       "      <td>123</td>\n",
       "      <td>177</td>\n",
       "      <td>142</td>\n",
       "      <td>115</td>\n",
       "      <td>180</td>\n",
       "      <td>...</td>\n",
       "      <td>127</td>\n",
       "      <td>185</td>\n",
       "      <td>154</td>\n",
       "      <td>133</td>\n",
       "      <td>171</td>\n",
       "      <td>121</td>\n",
       "      <td>105</td>\n",
       "      <td>163</td>\n",
       "      <td>105</td>\n",
       "      <td>90</td>\n",
       "    </tr>\n",
       "  </tbody>\n",
       "</table>\n",
       "<p>10015 rows × 147 columns</p>\n",
       "</div>"
      ],
      "text/plain": [
       "        c0   c1   c2   c3   c4   c5   c6   c7   c8   c9  ...  c137  c138  \\\n",
       "0      201  157  189  213  170  201  217  175  201  214  ...   192   212   \n",
       "1      128   97  125  185  138  166  210  167  203  216  ...   195   213   \n",
       "2      204  146  162  212  149  161  218  159  180  210  ...   190   219   \n",
       "3      148  105  120  201  144  158  210  149  157  212  ...   154   187   \n",
       "4      208  160  192  226  180  208  222  184  206  207  ...   203   239   \n",
       "...    ...  ...  ...  ...  ...  ...  ...  ...  ...  ...  ...   ...   ...   \n",
       "10010  207  187  202  210  185  195  214  183  187  217  ...   185   223   \n",
       "10011  116  100  100  164  140  142  195  166  169  211  ...   179   205   \n",
       "10012  183  165  170  211  188  195  235  212  218  243  ...   208   242   \n",
       "10013  168  126  144  181  138  158  186  140  154  190  ...   175   195   \n",
       "10014  178  145  124  178  145  123  177  142  115  180  ...   127   185   \n",
       "\n",
       "       c139  c140  c141  c142  c143  c144  c145  c146  \n",
       "0       163   185   204   162   182   186   144   167  \n",
       "1       178   197   186   138   151    94    68    77  \n",
       "2       169   184   202   153   173   182   141   162  \n",
       "3       143   156   162   129   146    75    54    63  \n",
       "4       195   217   234   184   211   215   182   196  \n",
       "...     ...   ...   ...   ...   ...   ...   ...   ...  \n",
       "10010   194   197   223   202   206   209   187   189  \n",
       "10011   177   177   183   159   157   115    98    95  \n",
       "10012   217   216   229   206   205   202   181   176  \n",
       "10013   176   187   192   171   181   187   159   170  \n",
       "10014   154   133   171   121   105   163   105    90  \n",
       "\n",
       "[10015 rows x 147 columns]"
      ]
     },
     "execution_count": 6,
     "metadata": {},
     "output_type": "execute_result"
    }
   ],
   "source": [
    "# Create image dataframe to store all the pixel columns\n",
    "# Extract the value from image_pixe' then split the values into columns\n",
    "arr = np.array(ham['image_pixel'].values.tolist())\n",
    "df = pd.DataFrame(columns=['c'+str(i) for i in range(147)])  # range is 7 x 7 x 3\n",
    "df[df.columns] = arr\n",
    "df"
   ]
  },
  {
   "cell_type": "code",
   "execution_count": 7,
   "id": "c1b57efd",
   "metadata": {
    "_cell_guid": "583a1db3-6d12-4539-9022-a3bc0f2a3cd0",
    "_uuid": "fd76bfad-5424-45c9-beac-ccdacc98ea4b",
    "collapsed": false,
    "execution": {
     "iopub.execute_input": "2022-08-13T00:33:55.667471Z",
     "iopub.status.busy": "2022-08-13T00:33:55.667090Z",
     "iopub.status.idle": "2022-08-13T00:33:55.677236Z",
     "shell.execute_reply": "2022-08-13T00:33:55.676166Z"
    },
    "jupyter": {
     "outputs_hidden": false
    },
    "papermill": {
     "duration": 0.023557,
     "end_time": "2022-08-13T00:33:55.679965",
     "exception": false,
     "start_time": "2022-08-13T00:33:55.656408",
     "status": "completed"
    },
    "tags": []
   },
   "outputs": [],
   "source": [
    "# Concat two table as ground_truth\n",
    "ground_truth = pd.concat([ham, df], axis=1)"
   ]
  },
  {
   "cell_type": "code",
   "execution_count": 8,
   "id": "ab45e77c",
   "metadata": {
    "_cell_guid": "552cd71d-7b50-446a-95de-22f339b1be99",
    "_uuid": "070a564c-50c9-410c-91bf-a106d9915b77",
    "collapsed": false,
    "execution": {
     "iopub.execute_input": "2022-08-13T00:33:55.700517Z",
     "iopub.status.busy": "2022-08-13T00:33:55.700122Z",
     "iopub.status.idle": "2022-08-13T00:33:55.710713Z",
     "shell.execute_reply": "2022-08-13T00:33:55.708891Z"
    },
    "jupyter": {
     "outputs_hidden": false
    },
    "papermill": {
     "duration": 0.024134,
     "end_time": "2022-08-13T00:33:55.713539",
     "exception": false,
     "start_time": "2022-08-13T00:33:55.689405",
     "status": "completed"
    },
    "tags": []
   },
   "outputs": [
    {
     "name": "stderr",
     "output_type": "stream",
     "text": [
      "/opt/conda/lib/python3.7/site-packages/ipykernel_launcher.py:13: PerformanceWarning: DataFrame is highly fragmented.  This is usually the result of calling `frame.insert` many times, which has poor performance.  Consider joining all columns at once using pd.concat(axis=1) instead.  To get a de-fragmented frame, use `newframe = frame.copy()`\n",
      "  del sys.path[0]\n"
     ]
    }
   ],
   "source": [
    "# Create label mapping on dx column\n",
    "label_mapping = { \n",
    "    'nv':0,     \n",
    "    'mel':1,  \n",
    "    'bkl':2,  \n",
    "    'bcc':3,\n",
    "    'akiec':4,  \n",
    "    'vasc':5, \n",
    "    'df':6\n",
    "}\n",
    "\n",
    "# Create label column based on dx column\n",
    "ground_truth['label'] = ground_truth['dx'].map(label_mapping)"
   ]
  },
  {
   "cell_type": "code",
   "execution_count": 9,
   "id": "0c13bcc3",
   "metadata": {
    "_cell_guid": "ffe0d531-6eec-4cee-9769-9fa9605742c3",
    "_uuid": "8d4f7f16-ab7a-4520-92ff-f353ad27bf6f",
    "collapsed": false,
    "execution": {
     "iopub.execute_input": "2022-08-13T00:33:55.734135Z",
     "iopub.status.busy": "2022-08-13T00:33:55.733729Z",
     "iopub.status.idle": "2022-08-13T00:33:55.767204Z",
     "shell.execute_reply": "2022-08-13T00:33:55.766331Z"
    },
    "jupyter": {
     "outputs_hidden": false
    },
    "papermill": {
     "duration": 0.046682,
     "end_time": "2022-08-13T00:33:55.769675",
     "exception": false,
     "start_time": "2022-08-13T00:33:55.722993",
     "status": "completed"
    },
    "tags": []
   },
   "outputs": [
    {
     "data": {
      "text/html": [
       "<div>\n",
       "<style scoped>\n",
       "    .dataframe tbody tr th:only-of-type {\n",
       "        vertical-align: middle;\n",
       "    }\n",
       "\n",
       "    .dataframe tbody tr th {\n",
       "        vertical-align: top;\n",
       "    }\n",
       "\n",
       "    .dataframe thead th {\n",
       "        text-align: right;\n",
       "    }\n",
       "</style>\n",
       "<table border=\"1\" class=\"dataframe\">\n",
       "  <thead>\n",
       "    <tr style=\"text-align: right;\">\n",
       "      <th></th>\n",
       "      <th>lesion_id</th>\n",
       "      <th>image_id</th>\n",
       "      <th>dx</th>\n",
       "      <th>dx_type</th>\n",
       "      <th>age</th>\n",
       "      <th>sex</th>\n",
       "      <th>localization</th>\n",
       "      <th>path</th>\n",
       "      <th>image_pixel</th>\n",
       "      <th>c0</th>\n",
       "      <th>...</th>\n",
       "      <th>c138</th>\n",
       "      <th>c139</th>\n",
       "      <th>c140</th>\n",
       "      <th>c141</th>\n",
       "      <th>c142</th>\n",
       "      <th>c143</th>\n",
       "      <th>c144</th>\n",
       "      <th>c145</th>\n",
       "      <th>c146</th>\n",
       "      <th>label</th>\n",
       "    </tr>\n",
       "  </thead>\n",
       "  <tbody>\n",
       "    <tr>\n",
       "      <th>0</th>\n",
       "      <td>HAM_0000118</td>\n",
       "      <td>ISIC_0027419</td>\n",
       "      <td>bkl</td>\n",
       "      <td>histo</td>\n",
       "      <td>80.0</td>\n",
       "      <td>male</td>\n",
       "      <td>scalp</td>\n",
       "      <td>../input/skin-cancer-mnist-ham10000/ham10000_i...</td>\n",
       "      <td>[201, 157, 189, 213, 170, 201, 217, 175, 201, ...</td>\n",
       "      <td>201</td>\n",
       "      <td>...</td>\n",
       "      <td>212</td>\n",
       "      <td>163</td>\n",
       "      <td>185</td>\n",
       "      <td>204</td>\n",
       "      <td>162</td>\n",
       "      <td>182</td>\n",
       "      <td>186</td>\n",
       "      <td>144</td>\n",
       "      <td>167</td>\n",
       "      <td>2</td>\n",
       "    </tr>\n",
       "    <tr>\n",
       "      <th>1</th>\n",
       "      <td>HAM_0000118</td>\n",
       "      <td>ISIC_0025030</td>\n",
       "      <td>bkl</td>\n",
       "      <td>histo</td>\n",
       "      <td>80.0</td>\n",
       "      <td>male</td>\n",
       "      <td>scalp</td>\n",
       "      <td>../input/skin-cancer-mnist-ham10000/ham10000_i...</td>\n",
       "      <td>[128, 97, 125, 185, 138, 166, 210, 167, 203, 2...</td>\n",
       "      <td>128</td>\n",
       "      <td>...</td>\n",
       "      <td>213</td>\n",
       "      <td>178</td>\n",
       "      <td>197</td>\n",
       "      <td>186</td>\n",
       "      <td>138</td>\n",
       "      <td>151</td>\n",
       "      <td>94</td>\n",
       "      <td>68</td>\n",
       "      <td>77</td>\n",
       "      <td>2</td>\n",
       "    </tr>\n",
       "    <tr>\n",
       "      <th>2</th>\n",
       "      <td>HAM_0002730</td>\n",
       "      <td>ISIC_0026769</td>\n",
       "      <td>bkl</td>\n",
       "      <td>histo</td>\n",
       "      <td>80.0</td>\n",
       "      <td>male</td>\n",
       "      <td>scalp</td>\n",
       "      <td>../input/skin-cancer-mnist-ham10000/ham10000_i...</td>\n",
       "      <td>[204, 146, 162, 212, 149, 161, 218, 159, 180, ...</td>\n",
       "      <td>204</td>\n",
       "      <td>...</td>\n",
       "      <td>219</td>\n",
       "      <td>169</td>\n",
       "      <td>184</td>\n",
       "      <td>202</td>\n",
       "      <td>153</td>\n",
       "      <td>173</td>\n",
       "      <td>182</td>\n",
       "      <td>141</td>\n",
       "      <td>162</td>\n",
       "      <td>2</td>\n",
       "    </tr>\n",
       "    <tr>\n",
       "      <th>3</th>\n",
       "      <td>HAM_0002730</td>\n",
       "      <td>ISIC_0025661</td>\n",
       "      <td>bkl</td>\n",
       "      <td>histo</td>\n",
       "      <td>80.0</td>\n",
       "      <td>male</td>\n",
       "      <td>scalp</td>\n",
       "      <td>../input/skin-cancer-mnist-ham10000/ham10000_i...</td>\n",
       "      <td>[148, 105, 120, 201, 144, 158, 210, 149, 157, ...</td>\n",
       "      <td>148</td>\n",
       "      <td>...</td>\n",
       "      <td>187</td>\n",
       "      <td>143</td>\n",
       "      <td>156</td>\n",
       "      <td>162</td>\n",
       "      <td>129</td>\n",
       "      <td>146</td>\n",
       "      <td>75</td>\n",
       "      <td>54</td>\n",
       "      <td>63</td>\n",
       "      <td>2</td>\n",
       "    </tr>\n",
       "    <tr>\n",
       "      <th>4</th>\n",
       "      <td>HAM_0001466</td>\n",
       "      <td>ISIC_0031633</td>\n",
       "      <td>bkl</td>\n",
       "      <td>histo</td>\n",
       "      <td>75.0</td>\n",
       "      <td>male</td>\n",
       "      <td>ear</td>\n",
       "      <td>../input/skin-cancer-mnist-ham10000/ham10000_i...</td>\n",
       "      <td>[208, 160, 192, 226, 180, 208, 222, 184, 206, ...</td>\n",
       "      <td>208</td>\n",
       "      <td>...</td>\n",
       "      <td>239</td>\n",
       "      <td>195</td>\n",
       "      <td>217</td>\n",
       "      <td>234</td>\n",
       "      <td>184</td>\n",
       "      <td>211</td>\n",
       "      <td>215</td>\n",
       "      <td>182</td>\n",
       "      <td>196</td>\n",
       "      <td>2</td>\n",
       "    </tr>\n",
       "  </tbody>\n",
       "</table>\n",
       "<p>5 rows × 157 columns</p>\n",
       "</div>"
      ],
      "text/plain": [
       "     lesion_id      image_id   dx dx_type   age   sex localization  \\\n",
       "0  HAM_0000118  ISIC_0027419  bkl   histo  80.0  male        scalp   \n",
       "1  HAM_0000118  ISIC_0025030  bkl   histo  80.0  male        scalp   \n",
       "2  HAM_0002730  ISIC_0026769  bkl   histo  80.0  male        scalp   \n",
       "3  HAM_0002730  ISIC_0025661  bkl   histo  80.0  male        scalp   \n",
       "4  HAM_0001466  ISIC_0031633  bkl   histo  75.0  male          ear   \n",
       "\n",
       "                                                path  \\\n",
       "0  ../input/skin-cancer-mnist-ham10000/ham10000_i...   \n",
       "1  ../input/skin-cancer-mnist-ham10000/ham10000_i...   \n",
       "2  ../input/skin-cancer-mnist-ham10000/ham10000_i...   \n",
       "3  ../input/skin-cancer-mnist-ham10000/ham10000_i...   \n",
       "4  ../input/skin-cancer-mnist-ham10000/ham10000_i...   \n",
       "\n",
       "                                         image_pixel   c0  ...  c138  c139  \\\n",
       "0  [201, 157, 189, 213, 170, 201, 217, 175, 201, ...  201  ...   212   163   \n",
       "1  [128, 97, 125, 185, 138, 166, 210, 167, 203, 2...  128  ...   213   178   \n",
       "2  [204, 146, 162, 212, 149, 161, 218, 159, 180, ...  204  ...   219   169   \n",
       "3  [148, 105, 120, 201, 144, 158, 210, 149, 157, ...  148  ...   187   143   \n",
       "4  [208, 160, 192, 226, 180, 208, 222, 184, 206, ...  208  ...   239   195   \n",
       "\n",
       "   c140  c141  c142  c143  c144  c145  c146  label  \n",
       "0   185   204   162   182   186   144   167      2  \n",
       "1   197   186   138   151    94    68    77      2  \n",
       "2   184   202   153   173   182   141   162      2  \n",
       "3   156   162   129   146    75    54    63      2  \n",
       "4   217   234   184   211   215   182   196      2  \n",
       "\n",
       "[5 rows x 157 columns]"
      ]
     },
     "execution_count": 9,
     "metadata": {},
     "output_type": "execute_result"
    }
   ],
   "source": [
    "ground_truth.head()"
   ]
  },
  {
   "cell_type": "markdown",
   "id": "ce987580",
   "metadata": {
    "_cell_guid": "000efebc-83ea-40f4-a497-bdceffb6ebf8",
    "_uuid": "003c45b6-c9d1-4845-96fe-b24482e868bb",
    "papermill": {
     "duration": 0.009322,
     "end_time": "2022-08-13T00:33:55.788666",
     "exception": false,
     "start_time": "2022-08-13T00:33:55.779344",
     "status": "completed"
    },
    "tags": []
   },
   "source": [
    "# Descriptive Analysis\n",
    "\n",
    "There are seven features in the dataset.\n",
    "* Lession ID   - Unique ID of Lession\n",
    "* Image ID     - Unique ID of the image\n",
    "* DX           - DX\n",
    "* DX Type      - DX Type\n",
    "* Age          - Age of the Patient\n",
    "* Sex          - Gender of the Patient\n",
    "* Localization - location of the dermatological images"
   ]
  },
  {
   "cell_type": "code",
   "execution_count": 10,
   "id": "9ff9e877",
   "metadata": {
    "_cell_guid": "8aab0d79-eea0-40ad-b968-6d95245de056",
    "_uuid": "8d83c421-5cf5-4e6f-956e-4eeb3bd2d44b",
    "collapsed": false,
    "execution": {
     "iopub.execute_input": "2022-08-13T00:33:55.811276Z",
     "iopub.status.busy": "2022-08-13T00:33:55.809128Z",
     "iopub.status.idle": "2022-08-13T00:33:55.831797Z",
     "shell.execute_reply": "2022-08-13T00:33:55.830747Z"
    },
    "jupyter": {
     "outputs_hidden": false
    },
    "papermill": {
     "duration": 0.036179,
     "end_time": "2022-08-13T00:33:55.834355",
     "exception": false,
     "start_time": "2022-08-13T00:33:55.798176",
     "status": "completed"
    },
    "tags": []
   },
   "outputs": [
    {
     "data": {
      "text/html": [
       "<div>\n",
       "<style scoped>\n",
       "    .dataframe tbody tr th:only-of-type {\n",
       "        vertical-align: middle;\n",
       "    }\n",
       "\n",
       "    .dataframe tbody tr th {\n",
       "        vertical-align: top;\n",
       "    }\n",
       "\n",
       "    .dataframe thead th {\n",
       "        text-align: right;\n",
       "    }\n",
       "</style>\n",
       "<table border=\"1\" class=\"dataframe\">\n",
       "  <thead>\n",
       "    <tr style=\"text-align: right;\">\n",
       "      <th></th>\n",
       "      <th>lesion_id</th>\n",
       "      <th>image_id</th>\n",
       "      <th>dx</th>\n",
       "      <th>dx_type</th>\n",
       "      <th>age</th>\n",
       "      <th>sex</th>\n",
       "      <th>localization</th>\n",
       "      <th>path</th>\n",
       "      <th>image_pixel</th>\n",
       "    </tr>\n",
       "  </thead>\n",
       "  <tbody>\n",
       "    <tr>\n",
       "      <th>0</th>\n",
       "      <td>HAM_0000118</td>\n",
       "      <td>ISIC_0027419</td>\n",
       "      <td>bkl</td>\n",
       "      <td>histo</td>\n",
       "      <td>80.0</td>\n",
       "      <td>male</td>\n",
       "      <td>scalp</td>\n",
       "      <td>../input/skin-cancer-mnist-ham10000/ham10000_i...</td>\n",
       "      <td>[201, 157, 189, 213, 170, 201, 217, 175, 201, ...</td>\n",
       "    </tr>\n",
       "    <tr>\n",
       "      <th>1</th>\n",
       "      <td>HAM_0000118</td>\n",
       "      <td>ISIC_0025030</td>\n",
       "      <td>bkl</td>\n",
       "      <td>histo</td>\n",
       "      <td>80.0</td>\n",
       "      <td>male</td>\n",
       "      <td>scalp</td>\n",
       "      <td>../input/skin-cancer-mnist-ham10000/ham10000_i...</td>\n",
       "      <td>[128, 97, 125, 185, 138, 166, 210, 167, 203, 2...</td>\n",
       "    </tr>\n",
       "    <tr>\n",
       "      <th>2</th>\n",
       "      <td>HAM_0002730</td>\n",
       "      <td>ISIC_0026769</td>\n",
       "      <td>bkl</td>\n",
       "      <td>histo</td>\n",
       "      <td>80.0</td>\n",
       "      <td>male</td>\n",
       "      <td>scalp</td>\n",
       "      <td>../input/skin-cancer-mnist-ham10000/ham10000_i...</td>\n",
       "      <td>[204, 146, 162, 212, 149, 161, 218, 159, 180, ...</td>\n",
       "    </tr>\n",
       "    <tr>\n",
       "      <th>3</th>\n",
       "      <td>HAM_0002730</td>\n",
       "      <td>ISIC_0025661</td>\n",
       "      <td>bkl</td>\n",
       "      <td>histo</td>\n",
       "      <td>80.0</td>\n",
       "      <td>male</td>\n",
       "      <td>scalp</td>\n",
       "      <td>../input/skin-cancer-mnist-ham10000/ham10000_i...</td>\n",
       "      <td>[148, 105, 120, 201, 144, 158, 210, 149, 157, ...</td>\n",
       "    </tr>\n",
       "    <tr>\n",
       "      <th>4</th>\n",
       "      <td>HAM_0001466</td>\n",
       "      <td>ISIC_0031633</td>\n",
       "      <td>bkl</td>\n",
       "      <td>histo</td>\n",
       "      <td>75.0</td>\n",
       "      <td>male</td>\n",
       "      <td>ear</td>\n",
       "      <td>../input/skin-cancer-mnist-ham10000/ham10000_i...</td>\n",
       "      <td>[208, 160, 192, 226, 180, 208, 222, 184, 206, ...</td>\n",
       "    </tr>\n",
       "  </tbody>\n",
       "</table>\n",
       "</div>"
      ],
      "text/plain": [
       "     lesion_id      image_id   dx dx_type   age   sex localization  \\\n",
       "0  HAM_0000118  ISIC_0027419  bkl   histo  80.0  male        scalp   \n",
       "1  HAM_0000118  ISIC_0025030  bkl   histo  80.0  male        scalp   \n",
       "2  HAM_0002730  ISIC_0026769  bkl   histo  80.0  male        scalp   \n",
       "3  HAM_0002730  ISIC_0025661  bkl   histo  80.0  male        scalp   \n",
       "4  HAM_0001466  ISIC_0031633  bkl   histo  75.0  male          ear   \n",
       "\n",
       "                                                path  \\\n",
       "0  ../input/skin-cancer-mnist-ham10000/ham10000_i...   \n",
       "1  ../input/skin-cancer-mnist-ham10000/ham10000_i...   \n",
       "2  ../input/skin-cancer-mnist-ham10000/ham10000_i...   \n",
       "3  ../input/skin-cancer-mnist-ham10000/ham10000_i...   \n",
       "4  ../input/skin-cancer-mnist-ham10000/ham10000_i...   \n",
       "\n",
       "                                         image_pixel  \n",
       "0  [201, 157, 189, 213, 170, 201, 217, 175, 201, ...  \n",
       "1  [128, 97, 125, 185, 138, 166, 210, 167, 203, 2...  \n",
       "2  [204, 146, 162, 212, 149, 161, 218, 159, 180, ...  \n",
       "3  [148, 105, 120, 201, 144, 158, 210, 149, 157, ...  \n",
       "4  [208, 160, 192, 226, 180, 208, 222, 184, 206, ...  "
      ]
     },
     "execution_count": 10,
     "metadata": {},
     "output_type": "execute_result"
    }
   ],
   "source": [
    "#Pre-screen the first few observations of the dataset\n",
    "ham.head()"
   ]
  },
  {
   "cell_type": "markdown",
   "id": "9328ca54",
   "metadata": {
    "_cell_guid": "f83e44c4-7ae4-4a22-a0c2-a3722410f456",
    "_uuid": "f70f9e13-f837-4930-88b9-6e13c4076f81",
    "papermill": {
     "duration": 0.009676,
     "end_time": "2022-08-13T00:33:55.854055",
     "exception": false,
     "start_time": "2022-08-13T00:33:55.844379",
     "status": "completed"
    },
    "tags": []
   },
   "source": [
    "## Perform Null checking on the dataset\n",
    "\n",
    "Perform NA and Null checking"
   ]
  },
  {
   "cell_type": "code",
   "execution_count": 11,
   "id": "032316d3",
   "metadata": {
    "_cell_guid": "d3630c1e-6263-4da8-be69-aa0e2e83714e",
    "_uuid": "9dd394fc-40bb-4c92-ab99-f1c4d1910e71",
    "collapsed": false,
    "execution": {
     "iopub.execute_input": "2022-08-13T00:33:55.875439Z",
     "iopub.status.busy": "2022-08-13T00:33:55.875041Z",
     "iopub.status.idle": "2022-08-13T00:33:55.890760Z",
     "shell.execute_reply": "2022-08-13T00:33:55.889744Z"
    },
    "jupyter": {
     "outputs_hidden": false
    },
    "papermill": {
     "duration": 0.029071,
     "end_time": "2022-08-13T00:33:55.892888",
     "exception": false,
     "start_time": "2022-08-13T00:33:55.863817",
     "status": "completed"
    },
    "tags": []
   },
   "outputs": [
    {
     "data": {
      "text/plain": [
       "lesion_id       0\n",
       "image_id        0\n",
       "dx              0\n",
       "dx_type         0\n",
       "age             0\n",
       "sex             0\n",
       "localization    0\n",
       "path            0\n",
       "image_pixel     0\n",
       "dtype: int64"
      ]
     },
     "execution_count": 11,
     "metadata": {},
     "output_type": "execute_result"
    }
   ],
   "source": [
    "#NA Check\n",
    "ham.isna().isna().sum()"
   ]
  },
  {
   "cell_type": "markdown",
   "id": "3d010926",
   "metadata": {
    "_cell_guid": "c692a475-0429-4faa-9391-2e152f651ef3",
    "_uuid": "74e17363-c3e1-4306-8e61-09c4d14ee852",
    "papermill": {
     "duration": 0.009792,
     "end_time": "2022-08-13T00:33:55.912920",
     "exception": false,
     "start_time": "2022-08-13T00:33:55.903128",
     "status": "completed"
    },
    "tags": []
   },
   "source": [
    "There is 53 records missing in age feature which around 0.6% of the total observations, since age is the only missing value while other features do not have missing.\n",
    "\n",
    "Therefore we can use mean value to replace the missing value."
   ]
  },
  {
   "cell_type": "code",
   "execution_count": 12,
   "id": "244275d2",
   "metadata": {
    "_cell_guid": "1171f0a6-d509-4a6f-96fc-0e5095031057",
    "_uuid": "c1cbf742-3c06-4756-b147-9bcfd6741c41",
    "collapsed": false,
    "execution": {
     "iopub.execute_input": "2022-08-13T00:33:55.935366Z",
     "iopub.status.busy": "2022-08-13T00:33:55.934270Z",
     "iopub.status.idle": "2022-08-13T00:33:57.375083Z",
     "shell.execute_reply": "2022-08-13T00:33:57.373496Z"
    },
    "jupyter": {
     "outputs_hidden": false
    },
    "papermill": {
     "duration": 1.455266,
     "end_time": "2022-08-13T00:33:57.378188",
     "exception": false,
     "start_time": "2022-08-13T00:33:55.922922",
     "status": "completed"
    },
    "tags": []
   },
   "outputs": [
    {
     "data": {
      "image/png": "[encoded data removed]",
      "text/plain": [
       "<Figure size 432x432 with 2 Axes>"
      ]
     },
     "metadata": {
      "needs_background": "light"
     },
     "output_type": "display_data"
    }
   ],
   "source": [
    "## Null Checking\n",
    "plt.figure(figsize=(6,6))\n",
    "sns.heatmap(ham.isna().transpose(),\n",
    "            cmap=\"YlGnBu\",\n",
    "            cbar_kws={'label': 'Missing Data'})\n",
    "plt.savefig(\"Missing data check on HAM10000.png\", dpi=100)\n",
    "\n",
    "# Handling missing values - replaced by mean\n",
    "ham['age'].fillna(value=int(ham['age'].mean()), inplace=True)"
   ]
  },
  {
   "cell_type": "markdown",
   "id": "a3b753b9",
   "metadata": {
    "_cell_guid": "9e9ed160-ee91-4a08-9e0b-ed23c7a1c794",
    "_uuid": "e035c869-98ad-41b3-b593-27d7c13986e2",
    "papermill": {
     "duration": 0.010731,
     "end_time": "2022-08-13T00:33:57.400432",
     "exception": false,
     "start_time": "2022-08-13T00:33:57.389701",
     "status": "completed"
    },
    "tags": []
   },
   "source": [
    "## Export the dataset"
   ]
  },
  {
   "cell_type": "code",
   "execution_count": 13,
   "id": "1a793108",
   "metadata": {
    "_cell_guid": "012efd37-83ac-40c2-960f-d718e1e3ecb4",
    "_uuid": "bcf26897-5b86-489d-84be-7302722df3a7",
    "collapsed": false,
    "execution": {
     "iopub.execute_input": "2022-08-13T00:33:57.425067Z",
     "iopub.status.busy": "2022-08-13T00:33:57.423986Z",
     "iopub.status.idle": "2022-08-13T00:34:01.547545Z",
     "shell.execute_reply": "2022-08-13T00:34:01.546571Z"
    },
    "jupyter": {
     "outputs_hidden": false
    },
    "papermill": {
     "duration": 4.139157,
     "end_time": "2022-08-13T00:34:01.550562",
     "exception": false,
     "start_time": "2022-08-13T00:33:57.411405",
     "status": "completed"
    },
    "tags": []
   },
   "outputs": [],
   "source": [
    "#Export the file into CSV\n",
    "ground_truth.to_csv(r'GroupTruth.csv')"
   ]
  },
  {
   "cell_type": "markdown",
   "id": "d3219358",
   "metadata": {
    "_cell_guid": "4fb18316-7997-49ce-88cc-b31ca8050fa4",
    "_uuid": "619a0bd5-553d-425a-8f13-08c3d1ce6072",
    "papermill": {
     "duration": 0.010215,
     "end_time": "2022-08-13T00:34:01.571717",
     "exception": false,
     "start_time": "2022-08-13T00:34:01.561502",
     "status": "completed"
    },
    "tags": []
   },
   "source": [
    "## Summary of the dataset\n",
    "\n",
    "Using the describe function, we have table below. The first column meaning as below: \n",
    "* count - The number of not-empty values.\n",
    "* mean - The average (mean) value.\n",
    "* std - The standard deviation.\n",
    "* min - the minimum value.\n",
    "* 25% - The 25% percentile*.\n",
    "* 50% - The 50% percentile*.\n",
    "* 75% - The 75% percentile*.\n",
    "* max - the maximum value.\n",
    "\n",
    "Since Age is numerical variable, therefore describe function can provide standard deviation, percentile, min and max information."
   ]
  },
  {
   "cell_type": "code",
   "execution_count": 14,
   "id": "1d8443bc",
   "metadata": {
    "_cell_guid": "50eab8b1-a097-444d-98d6-a0091d70a37f",
    "_uuid": "017d9b29-91a3-41fd-88a1-255fbdf40b81",
    "collapsed": false,
    "execution": {
     "iopub.execute_input": "2022-08-13T00:34:01.595191Z",
     "iopub.status.busy": "2022-08-13T00:34:01.594601Z",
     "iopub.status.idle": "2022-08-13T00:35:46.434760Z",
     "shell.execute_reply": "2022-08-13T00:35:46.433535Z"
    },
    "jupyter": {
     "outputs_hidden": false
    },
    "papermill": {
     "duration": 104.866182,
     "end_time": "2022-08-13T00:35:46.448541",
     "exception": false,
     "start_time": "2022-08-13T00:34:01.582359",
     "status": "completed"
    },
    "tags": []
   },
   "outputs": [
    {
     "data": {
      "text/html": [
       "<div>\n",
       "<style scoped>\n",
       "    .dataframe tbody tr th:only-of-type {\n",
       "        vertical-align: middle;\n",
       "    }\n",
       "\n",
       "    .dataframe tbody tr th {\n",
       "        vertical-align: top;\n",
       "    }\n",
       "\n",
       "    .dataframe thead th {\n",
       "        text-align: right;\n",
       "    }\n",
       "</style>\n",
       "<table border=\"1\" class=\"dataframe\">\n",
       "  <thead>\n",
       "    <tr style=\"text-align: right;\">\n",
       "      <th></th>\n",
       "      <th>lesion_id</th>\n",
       "      <th>image_id</th>\n",
       "      <th>dx</th>\n",
       "      <th>dx_type</th>\n",
       "      <th>age</th>\n",
       "      <th>sex</th>\n",
       "      <th>localization</th>\n",
       "      <th>path</th>\n",
       "      <th>image_pixel</th>\n",
       "      <th>c0</th>\n",
       "      <th>...</th>\n",
       "      <th>c138</th>\n",
       "      <th>c139</th>\n",
       "      <th>c140</th>\n",
       "      <th>c141</th>\n",
       "      <th>c142</th>\n",
       "      <th>c143</th>\n",
       "      <th>c144</th>\n",
       "      <th>c145</th>\n",
       "      <th>c146</th>\n",
       "      <th>label</th>\n",
       "    </tr>\n",
       "  </thead>\n",
       "  <tbody>\n",
       "    <tr>\n",
       "      <th>count</th>\n",
       "      <td>10015</td>\n",
       "      <td>10015</td>\n",
       "      <td>10015</td>\n",
       "      <td>10015</td>\n",
       "      <td>9958.000000</td>\n",
       "      <td>10015</td>\n",
       "      <td>10015</td>\n",
       "      <td>10015</td>\n",
       "      <td>10015</td>\n",
       "      <td>10015.000000</td>\n",
       "      <td>...</td>\n",
       "      <td>10015.000000</td>\n",
       "      <td>10015.000000</td>\n",
       "      <td>10015.000000</td>\n",
       "      <td>10015.000000</td>\n",
       "      <td>10015.000000</td>\n",
       "      <td>10015.000000</td>\n",
       "      <td>10015.000000</td>\n",
       "      <td>10015.000000</td>\n",
       "      <td>10015.000000</td>\n",
       "      <td>10015.000000</td>\n",
       "    </tr>\n",
       "    <tr>\n",
       "      <th>unique</th>\n",
       "      <td>7470</td>\n",
       "      <td>10015</td>\n",
       "      <td>7</td>\n",
       "      <td>4</td>\n",
       "      <td>NaN</td>\n",
       "      <td>3</td>\n",
       "      <td>15</td>\n",
       "      <td>10015</td>\n",
       "      <td>10015</td>\n",
       "      <td>NaN</td>\n",
       "      <td>...</td>\n",
       "      <td>NaN</td>\n",
       "      <td>NaN</td>\n",
       "      <td>NaN</td>\n",
       "      <td>NaN</td>\n",
       "      <td>NaN</td>\n",
       "      <td>NaN</td>\n",
       "      <td>NaN</td>\n",
       "      <td>NaN</td>\n",
       "      <td>NaN</td>\n",
       "      <td>NaN</td>\n",
       "    </tr>\n",
       "    <tr>\n",
       "      <th>top</th>\n",
       "      <td>HAM_0003789</td>\n",
       "      <td>ISIC_0027419</td>\n",
       "      <td>nv</td>\n",
       "      <td>histo</td>\n",
       "      <td>NaN</td>\n",
       "      <td>male</td>\n",
       "      <td>back</td>\n",
       "      <td>../input/skin-cancer-mnist-ham10000/ham10000_i...</td>\n",
       "      <td>[201, 157, 189, 213, 170, 201, 217, 175, 201, ...</td>\n",
       "      <td>NaN</td>\n",
       "      <td>...</td>\n",
       "      <td>NaN</td>\n",
       "      <td>NaN</td>\n",
       "      <td>NaN</td>\n",
       "      <td>NaN</td>\n",
       "      <td>NaN</td>\n",
       "      <td>NaN</td>\n",
       "      <td>NaN</td>\n",
       "      <td>NaN</td>\n",
       "      <td>NaN</td>\n",
       "      <td>NaN</td>\n",
       "    </tr>\n",
       "    <tr>\n",
       "      <th>freq</th>\n",
       "      <td>6</td>\n",
       "      <td>1</td>\n",
       "      <td>6705</td>\n",
       "      <td>5340</td>\n",
       "      <td>NaN</td>\n",
       "      <td>5406</td>\n",
       "      <td>2192</td>\n",
       "      <td>1</td>\n",
       "      <td>1</td>\n",
       "      <td>NaN</td>\n",
       "      <td>...</td>\n",
       "      <td>NaN</td>\n",
       "      <td>NaN</td>\n",
       "      <td>NaN</td>\n",
       "      <td>NaN</td>\n",
       "      <td>NaN</td>\n",
       "      <td>NaN</td>\n",
       "      <td>NaN</td>\n",
       "      <td>NaN</td>\n",
       "      <td>NaN</td>\n",
       "      <td>NaN</td>\n",
       "    </tr>\n",
       "    <tr>\n",
       "      <th>mean</th>\n",
       "      <td>NaN</td>\n",
       "      <td>NaN</td>\n",
       "      <td>NaN</td>\n",
       "      <td>NaN</td>\n",
       "      <td>51.863828</td>\n",
       "      <td>NaN</td>\n",
       "      <td>NaN</td>\n",
       "      <td>NaN</td>\n",
       "      <td>NaN</td>\n",
       "      <td>193.232851</td>\n",
       "      <td>...</td>\n",
       "      <td>203.068997</td>\n",
       "      <td>152.011083</td>\n",
       "      <td>158.927708</td>\n",
       "      <td>199.640040</td>\n",
       "      <td>150.819371</td>\n",
       "      <td>157.437743</td>\n",
       "      <td>187.010285</td>\n",
       "      <td>140.569945</td>\n",
       "      <td>146.313929</td>\n",
       "      <td>0.754968</td>\n",
       "    </tr>\n",
       "    <tr>\n",
       "      <th>std</th>\n",
       "      <td>NaN</td>\n",
       "      <td>NaN</td>\n",
       "      <td>NaN</td>\n",
       "      <td>NaN</td>\n",
       "      <td>16.968614</td>\n",
       "      <td>NaN</td>\n",
       "      <td>NaN</td>\n",
       "      <td>NaN</td>\n",
       "      <td>NaN</td>\n",
       "      <td>43.865927</td>\n",
       "      <td>...</td>\n",
       "      <td>25.759464</td>\n",
       "      <td>26.851934</td>\n",
       "      <td>30.279791</td>\n",
       "      <td>28.712728</td>\n",
       "      <td>26.284334</td>\n",
       "      <td>29.609915</td>\n",
       "      <td>41.623976</td>\n",
       "      <td>33.953058</td>\n",
       "      <td>36.911300</td>\n",
       "      <td>1.316223</td>\n",
       "    </tr>\n",
       "    <tr>\n",
       "      <th>min</th>\n",
       "      <td>NaN</td>\n",
       "      <td>NaN</td>\n",
       "      <td>NaN</td>\n",
       "      <td>NaN</td>\n",
       "      <td>0.000000</td>\n",
       "      <td>NaN</td>\n",
       "      <td>NaN</td>\n",
       "      <td>NaN</td>\n",
       "      <td>NaN</td>\n",
       "      <td>0.000000</td>\n",
       "      <td>...</td>\n",
       "      <td>3.000000</td>\n",
       "      <td>2.000000</td>\n",
       "      <td>3.000000</td>\n",
       "      <td>8.000000</td>\n",
       "      <td>1.000000</td>\n",
       "      <td>5.000000</td>\n",
       "      <td>0.000000</td>\n",
       "      <td>0.000000</td>\n",
       "      <td>0.000000</td>\n",
       "      <td>0.000000</td>\n",
       "    </tr>\n",
       "    <tr>\n",
       "      <th>25%</th>\n",
       "      <td>NaN</td>\n",
       "      <td>NaN</td>\n",
       "      <td>NaN</td>\n",
       "      <td>NaN</td>\n",
       "      <td>40.000000</td>\n",
       "      <td>NaN</td>\n",
       "      <td>NaN</td>\n",
       "      <td>NaN</td>\n",
       "      <td>NaN</td>\n",
       "      <td>171.000000</td>\n",
       "      <td>...</td>\n",
       "      <td>185.000000</td>\n",
       "      <td>136.000000</td>\n",
       "      <td>140.000000</td>\n",
       "      <td>181.000000</td>\n",
       "      <td>134.000000</td>\n",
       "      <td>138.000000</td>\n",
       "      <td>167.000000</td>\n",
       "      <td>124.000000</td>\n",
       "      <td>127.000000</td>\n",
       "      <td>0.000000</td>\n",
       "    </tr>\n",
       "    <tr>\n",
       "      <th>50%</th>\n",
       "      <td>NaN</td>\n",
       "      <td>NaN</td>\n",
       "      <td>NaN</td>\n",
       "      <td>NaN</td>\n",
       "      <td>50.000000</td>\n",
       "      <td>NaN</td>\n",
       "      <td>NaN</td>\n",
       "      <td>NaN</td>\n",
       "      <td>NaN</td>\n",
       "      <td>203.000000</td>\n",
       "      <td>...</td>\n",
       "      <td>206.000000</td>\n",
       "      <td>152.000000</td>\n",
       "      <td>160.000000</td>\n",
       "      <td>204.000000</td>\n",
       "      <td>151.000000</td>\n",
       "      <td>157.000000</td>\n",
       "      <td>198.000000</td>\n",
       "      <td>145.000000</td>\n",
       "      <td>149.000000</td>\n",
       "      <td>0.000000</td>\n",
       "    </tr>\n",
       "    <tr>\n",
       "      <th>75%</th>\n",
       "      <td>NaN</td>\n",
       "      <td>NaN</td>\n",
       "      <td>NaN</td>\n",
       "      <td>NaN</td>\n",
       "      <td>65.000000</td>\n",
       "      <td>NaN</td>\n",
       "      <td>NaN</td>\n",
       "      <td>NaN</td>\n",
       "      <td>NaN</td>\n",
       "      <td>225.000000</td>\n",
       "      <td>...</td>\n",
       "      <td>222.000000</td>\n",
       "      <td>169.000000</td>\n",
       "      <td>178.000000</td>\n",
       "      <td>221.000000</td>\n",
       "      <td>167.000000</td>\n",
       "      <td>176.000000</td>\n",
       "      <td>216.000000</td>\n",
       "      <td>161.000000</td>\n",
       "      <td>169.000000</td>\n",
       "      <td>1.000000</td>\n",
       "    </tr>\n",
       "    <tr>\n",
       "      <th>max</th>\n",
       "      <td>NaN</td>\n",
       "      <td>NaN</td>\n",
       "      <td>NaN</td>\n",
       "      <td>NaN</td>\n",
       "      <td>85.000000</td>\n",
       "      <td>NaN</td>\n",
       "      <td>NaN</td>\n",
       "      <td>NaN</td>\n",
       "      <td>NaN</td>\n",
       "      <td>255.000000</td>\n",
       "      <td>...</td>\n",
       "      <td>255.000000</td>\n",
       "      <td>253.000000</td>\n",
       "      <td>255.000000</td>\n",
       "      <td>255.000000</td>\n",
       "      <td>255.000000</td>\n",
       "      <td>255.000000</td>\n",
       "      <td>254.000000</td>\n",
       "      <td>253.000000</td>\n",
       "      <td>255.000000</td>\n",
       "      <td>6.000000</td>\n",
       "    </tr>\n",
       "  </tbody>\n",
       "</table>\n",
       "<p>11 rows × 157 columns</p>\n",
       "</div>"
      ],
      "text/plain": [
       "          lesion_id      image_id     dx dx_type          age    sex  \\\n",
       "count         10015         10015  10015   10015  9958.000000  10015   \n",
       "unique         7470         10015      7       4          NaN      3   \n",
       "top     HAM_0003789  ISIC_0027419     nv   histo          NaN   male   \n",
       "freq              6             1   6705    5340          NaN   5406   \n",
       "mean            NaN           NaN    NaN     NaN    51.863828    NaN   \n",
       "std             NaN           NaN    NaN     NaN    16.968614    NaN   \n",
       "min             NaN           NaN    NaN     NaN     0.000000    NaN   \n",
       "25%             NaN           NaN    NaN     NaN    40.000000    NaN   \n",
       "50%             NaN           NaN    NaN     NaN    50.000000    NaN   \n",
       "75%             NaN           NaN    NaN     NaN    65.000000    NaN   \n",
       "max             NaN           NaN    NaN     NaN    85.000000    NaN   \n",
       "\n",
       "       localization                                               path  \\\n",
       "count         10015                                              10015   \n",
       "unique           15                                              10015   \n",
       "top            back  ../input/skin-cancer-mnist-ham10000/ham10000_i...   \n",
       "freq           2192                                                  1   \n",
       "mean            NaN                                                NaN   \n",
       "std             NaN                                                NaN   \n",
       "min             NaN                                                NaN   \n",
       "25%             NaN                                                NaN   \n",
       "50%             NaN                                                NaN   \n",
       "75%             NaN                                                NaN   \n",
       "max             NaN                                                NaN   \n",
       "\n",
       "                                              image_pixel            c0  ...  \\\n",
       "count                                               10015  10015.000000  ...   \n",
       "unique                                              10015           NaN  ...   \n",
       "top     [201, 157, 189, 213, 170, 201, 217, 175, 201, ...           NaN  ...   \n",
       "freq                                                    1           NaN  ...   \n",
       "mean                                                  NaN    193.232851  ...   \n",
       "std                                                   NaN     43.865927  ...   \n",
       "min                                                   NaN      0.000000  ...   \n",
       "25%                                                   NaN    171.000000  ...   \n",
       "50%                                                   NaN    203.000000  ...   \n",
       "75%                                                   NaN    225.000000  ...   \n",
       "max                                                   NaN    255.000000  ...   \n",
       "\n",
       "                c138          c139          c140          c141          c142  \\\n",
       "count   10015.000000  10015.000000  10015.000000  10015.000000  10015.000000   \n",
       "unique           NaN           NaN           NaN           NaN           NaN   \n",
       "top              NaN           NaN           NaN           NaN           NaN   \n",
       "freq             NaN           NaN           NaN           NaN           NaN   \n",
       "mean      203.068997    152.011083    158.927708    199.640040    150.819371   \n",
       "std        25.759464     26.851934     30.279791     28.712728     26.284334   \n",
       "min         3.000000      2.000000      3.000000      8.000000      1.000000   \n",
       "25%       185.000000    136.000000    140.000000    181.000000    134.000000   \n",
       "50%       206.000000    152.000000    160.000000    204.000000    151.000000   \n",
       "75%       222.000000    169.000000    178.000000    221.000000    167.000000   \n",
       "max       255.000000    253.000000    255.000000    255.000000    255.000000   \n",
       "\n",
       "                c143          c144          c145          c146         label  \n",
       "count   10015.000000  10015.000000  10015.000000  10015.000000  10015.000000  \n",
       "unique           NaN           NaN           NaN           NaN           NaN  \n",
       "top              NaN           NaN           NaN           NaN           NaN  \n",
       "freq             NaN           NaN           NaN           NaN           NaN  \n",
       "mean      157.437743    187.010285    140.569945    146.313929      0.754968  \n",
       "std        29.609915     41.623976     33.953058     36.911300      1.316223  \n",
       "min         5.000000      0.000000      0.000000      0.000000      0.000000  \n",
       "25%       138.000000    167.000000    124.000000    127.000000      0.000000  \n",
       "50%       157.000000    198.000000    145.000000    149.000000      0.000000  \n",
       "75%       176.000000    216.000000    161.000000    169.000000      1.000000  \n",
       "max       255.000000    254.000000    253.000000    255.000000      6.000000  \n",
       "\n",
       "[11 rows x 157 columns]"
      ]
     },
     "execution_count": 14,
     "metadata": {},
     "output_type": "execute_result"
    }
   ],
   "source": [
    "#Describe the dataset with all columns\n",
    "ground_truth.describe(include='all')"
   ]
  },
  {
   "cell_type": "markdown",
   "id": "a7259784",
   "metadata": {
    "_cell_guid": "caebe260-71bc-4ad3-a847-7fbce20765b9",
    "_uuid": "16855371-ff70-4b4c-8ec0-a4ea0f96e0b4",
    "papermill": {
     "duration": 0.010833,
     "end_time": "2022-08-13T00:35:46.470388",
     "exception": false,
     "start_time": "2022-08-13T00:35:46.459555",
     "status": "completed"
    },
    "tags": []
   },
   "source": [
    "## Distribustion of Age\n",
    "\n",
    "Reading the distribution of age group is show normally distributed graph, which saying majority of the observations are from the age 40 - 55.\n",
    "Other indicators can be found:\n",
    "* An upward trend after age 20.\n",
    "* A downward trend after age 55."
   ]
  },
  {
   "cell_type": "code",
   "execution_count": 15,
   "id": "d6db253a",
   "metadata": {
    "_cell_guid": "7e9f9015-e8ae-4e4b-8395-599ed3d6f936",
    "_uuid": "5495ee57-785f-48d9-bce7-15bd4fb9cfa0",
    "collapsed": false,
    "execution": {
     "iopub.execute_input": "2022-08-13T00:35:46.494667Z",
     "iopub.status.busy": "2022-08-13T00:35:46.493922Z",
     "iopub.status.idle": "2022-08-13T00:35:46.737823Z",
     "shell.execute_reply": "2022-08-13T00:35:46.736626Z"
    },
    "jupyter": {
     "outputs_hidden": false
    },
    "papermill": {
     "duration": 0.258807,
     "end_time": "2022-08-13T00:35:46.740392",
     "exception": false,
     "start_time": "2022-08-13T00:35:46.481585",
     "status": "completed"
    },
    "tags": []
   },
   "outputs": [
    {
     "data": {
      "image/png": "[encoded data removed]",
      "text/plain": [
       "<Figure size 1296x432 with 1 Axes>"
      ]
     },
     "metadata": {
      "needs_background": "light"
     },
     "output_type": "display_data"
    }
   ],
   "source": [
    "#Then plot the graph for visualisation\n",
    "plt.figure(figsize=(18,6))\n",
    "plot1 = sns.countplot(data = ground_truth,x='age',palette=\"crest\") \n",
    "plot1.set_xlabel('Age')\n",
    "plot1.set_ylabel('Count')\n",
    "\n",
    "plt.title('Age Distribution');"
   ]
  },
  {
   "cell_type": "markdown",
   "id": "c41aaa7e",
   "metadata": {
    "_cell_guid": "1e7b0f5d-c1ff-42b9-b7b5-66773370ffad",
    "_uuid": "5936d889-37d5-45ee-accd-fc5d12c5609f",
    "papermill": {
     "duration": 0.011149,
     "end_time": "2022-08-13T00:35:46.763077",
     "exception": false,
     "start_time": "2022-08-13T00:35:46.751928",
     "status": "completed"
    },
    "tags": []
   },
   "source": [
    "# Skin Lesion Class\n",
    "\n",
    "There are seven classification on cancerous types in the dataset, they are:\n",
    "* Actinic Keratosis (AKIEC)\n",
    "* Basal Cell Carcinoma (BCC) \n",
    "* Benign Keratosis (BKL)\n",
    "* Dermatofibroma (DF)\n",
    "* Melanoma (MEL)\n",
    "* Melanomic Neves (NV)\n",
    "* Vascular Lesion (VASC) \n",
    "\n",
    "When we try to explore the combination of classification with dx_type or patient's gender, we can see the dataset is imbalance (the majorities of contributions are from nv class). For examples, dx_type is follow up, only has nv class observations and no others classes."
   ]
  },
  {
   "cell_type": "code",
   "execution_count": 16,
   "id": "0a1cc4da",
   "metadata": {
    "_cell_guid": "468ddb6f-02a4-454d-8a5a-f0ad6720a9ed",
    "_uuid": "530bcd80-9464-4928-a8bd-37045085e689",
    "collapsed": false,
    "execution": {
     "iopub.execute_input": "2022-08-13T00:35:46.787513Z",
     "iopub.status.busy": "2022-08-13T00:35:46.787124Z",
     "iopub.status.idle": "2022-08-13T00:35:46.794896Z",
     "shell.execute_reply": "2022-08-13T00:35:46.793623Z"
    },
    "jupyter": {
     "outputs_hidden": false
    },
    "papermill": {
     "duration": 0.024349,
     "end_time": "2022-08-13T00:35:46.798766",
     "exception": false,
     "start_time": "2022-08-13T00:35:46.774417",
     "status": "completed"
    },
    "tags": []
   },
   "outputs": [
    {
     "name": "stdout",
     "output_type": "stream",
     "text": [
      "nv       6705\n",
      "mel      1113\n",
      "bkl      1099\n",
      "bcc       514\n",
      "akiec     327\n",
      "vasc      142\n",
      "df        115\n",
      "Name: dx, dtype: int64\n"
     ]
    }
   ],
   "source": [
    "print(ground_truth.dx.value_counts())"
   ]
  },
  {
   "cell_type": "code",
   "execution_count": 17,
   "id": "f71a8ddc",
   "metadata": {
    "_cell_guid": "2c7fb076-d083-46b7-9266-9623eff26f05",
    "_uuid": "cf2137c3-bdfb-4e08-bacd-ae61fc668e4d",
    "collapsed": false,
    "execution": {
     "iopub.execute_input": "2022-08-13T00:35:46.825145Z",
     "iopub.status.busy": "2022-08-13T00:35:46.824448Z",
     "iopub.status.idle": "2022-08-13T00:35:47.118520Z",
     "shell.execute_reply": "2022-08-13T00:35:47.117207Z"
    },
    "jupyter": {
     "outputs_hidden": false
    },
    "papermill": {
     "duration": 0.30938,
     "end_time": "2022-08-13T00:35:47.121049",
     "exception": false,
     "start_time": "2022-08-13T00:35:46.811669",
     "status": "completed"
    },
    "tags": []
   },
   "outputs": [
    {
     "data": {
      "text/plain": [
       "<seaborn.axisgrid.FacetGrid at 0x7fbc21639910>"
      ]
     },
     "execution_count": 17,
     "metadata": {},
     "output_type": "execute_result"
    },
    {
     "data": {
      "image/png": "[encoded data removed]",
      "text/plain": [
       "<Figure size 360x360 with 1 Axes>"
      ]
     },
     "metadata": {
      "needs_background": "light"
     },
     "output_type": "display_data"
    }
   ],
   "source": [
    "# We count the data by output class DX\n",
    "sns.catplot(x=\"dx\",\n",
    "            kind=\"count\",\n",
    "            data=ground_truth)"
   ]
  },
  {
   "cell_type": "markdown",
   "id": "8e9c5e46",
   "metadata": {
    "_cell_guid": "8bd2edda-e383-4b49-a519-74d838961dbe",
    "_uuid": "c08b5e97-8f45-485d-83b0-2e84ab854f34",
    "papermill": {
     "duration": 0.011572,
     "end_time": "2022-08-13T00:35:47.144644",
     "exception": false,
     "start_time": "2022-08-13T00:35:47.133072",
     "status": "completed"
    },
    "tags": []
   },
   "source": [
    "### Image collection channel\n",
    "In this section, we exploring the data collection type to identified the source of the image is from which channel. \n",
    "As per graph below, we can see the majority of image collection is from histo. Image collection from other channels are not that much."
   ]
  },
  {
   "cell_type": "code",
   "execution_count": 18,
   "id": "f5736375",
   "metadata": {
    "_cell_guid": "7be721ca-8dd7-465a-ad84-8b13310cadea",
    "_uuid": "bd90ddfd-c0d3-4664-a5c5-486c564945b6",
    "collapsed": false,
    "execution": {
     "iopub.execute_input": "2022-08-13T00:35:47.171320Z",
     "iopub.status.busy": "2022-08-13T00:35:47.170094Z",
     "iopub.status.idle": "2022-08-13T00:35:47.903978Z",
     "shell.execute_reply": "2022-08-13T00:35:47.902738Z"
    },
    "jupyter": {
     "outputs_hidden": false
    },
    "papermill": {
     "duration": 0.749709,
     "end_time": "2022-08-13T00:35:47.906738",
     "exception": false,
     "start_time": "2022-08-13T00:35:47.157029",
     "status": "completed"
    },
    "tags": []
   },
   "outputs": [
    {
     "data": {
      "text/plain": [
       "<seaborn.axisgrid.FacetGrid at 0x7fbc21448590>"
      ]
     },
     "execution_count": 18,
     "metadata": {},
     "output_type": "execute_result"
    },
    {
     "data": {
      "image/png": "[encoded data removed]",
      "text/plain": [
       "<Figure size 1440x360 with 4 Axes>"
      ]
     },
     "metadata": {
      "needs_background": "light"
     },
     "output_type": "display_data"
    }
   ],
   "source": [
    "# We count the data by output class DX and DX_TYPE\n",
    "sns.catplot(x=\"dx\",\n",
    "            col=\"dx_type\",\n",
    "            kind=\"count\",\n",
    "            data=ham)"
   ]
  },
  {
   "cell_type": "markdown",
   "id": "513ecbc6",
   "metadata": {
    "_cell_guid": "acd02778-5ddc-4abb-9578-a9f357e4a3f0",
    "_uuid": "07dd722d-52f5-42cd-bb76-956e80fef299",
    "papermill": {
     "duration": 0.012072,
     "end_time": "2022-08-13T00:35:47.931460",
     "exception": false,
     "start_time": "2022-08-13T00:35:47.919388",
     "status": "completed"
    },
    "tags": []
   },
   "source": [
    "### Gender and Cancer\n",
    "\n",
    "Distribution of gender is quite nice, the proportion of distribution across male and female are not much difference."
   ]
  },
  {
   "cell_type": "code",
   "execution_count": 19,
   "id": "e4dffbbf",
   "metadata": {
    "_cell_guid": "b7f135ef-7c56-43c6-bb2d-0d8446fe2378",
    "_uuid": "0747b811-e6c6-4de2-9d64-8cb379e22916",
    "collapsed": false,
    "execution": {
     "iopub.execute_input": "2022-08-13T00:35:47.958983Z",
     "iopub.status.busy": "2022-08-13T00:35:47.958570Z",
     "iopub.status.idle": "2022-08-13T00:35:48.624452Z",
     "shell.execute_reply": "2022-08-13T00:35:48.623561Z"
    },
    "jupyter": {
     "outputs_hidden": false
    },
    "papermill": {
     "duration": 0.682739,
     "end_time": "2022-08-13T00:35:48.627044",
     "exception": false,
     "start_time": "2022-08-13T00:35:47.944305",
     "status": "completed"
    },
    "tags": []
   },
   "outputs": [
    {
     "data": {
      "text/plain": [
       "<seaborn.axisgrid.FacetGrid at 0x7fbc2145fa10>"
      ]
     },
     "execution_count": 19,
     "metadata": {},
     "output_type": "execute_result"
    },
    {
     "data": {
      "image/png": "[encoded data removed]",
      "text/plain": [
       "<Figure size 1080x360 with 3 Axes>"
      ]
     },
     "metadata": {
      "needs_background": "light"
     },
     "output_type": "display_data"
    }
   ],
   "source": [
    "# We count the data by output class DX and Gender\n",
    "sns.catplot(x=\"dx\",\n",
    "            col=\"sex\",\n",
    "            kind=\"count\",\n",
    "            data=ground_truth)"
   ]
  },
  {
   "cell_type": "code",
   "execution_count": 20,
   "id": "284d93f2",
   "metadata": {
    "_cell_guid": "63b52142-8920-489e-b753-714704ce06b1",
    "_uuid": "48465d77-f738-4687-babf-c7262940b534",
    "collapsed": false,
    "execution": {
     "iopub.execute_input": "2022-08-13T00:35:48.655183Z",
     "iopub.status.busy": "2022-08-13T00:35:48.654514Z",
     "iopub.status.idle": "2022-08-13T00:35:49.598388Z",
     "shell.execute_reply": "2022-08-13T00:35:49.597571Z"
    },
    "jupyter": {
     "outputs_hidden": false
    },
    "papermill": {
     "duration": 0.960548,
     "end_time": "2022-08-13T00:35:49.600697",
     "exception": false,
     "start_time": "2022-08-13T00:35:48.640149",
     "status": "completed"
    },
    "tags": []
   },
   "outputs": [
    {
     "data": {
      "text/plain": [
       "array([[<AxesSubplot:title={'center':'akiec'}>,\n",
       "        <AxesSubplot:title={'center':'bcc'}>,\n",
       "        <AxesSubplot:title={'center':'bkl'}>],\n",
       "       [<AxesSubplot:title={'center':'df'}>,\n",
       "        <AxesSubplot:title={'center':'mel'}>,\n",
       "        <AxesSubplot:title={'center':'nv'}>],\n",
       "       [<AxesSubplot:title={'center':'vasc'}>, <AxesSubplot:>,\n",
       "        <AxesSubplot:>]], dtype=object)"
      ]
     },
     "execution_count": 20,
     "metadata": {},
     "output_type": "execute_result"
    },
    {
     "data": {
      "image/png": "[encoded data removed]",
      "text/plain": [
       "<Figure size 432x288 with 9 Axes>"
      ]
     },
     "metadata": {
      "needs_background": "light"
     },
     "output_type": "display_data"
    }
   ],
   "source": [
    "#Age distribution on difference dx group\n",
    "ground_truth.age.hist(by=ground_truth.dx)"
   ]
  },
  {
   "cell_type": "code",
   "execution_count": 21,
   "id": "d737a88c",
   "metadata": {
    "_cell_guid": "2d9a8cef-38de-4e27-af5a-f4c5a2e79711",
    "_uuid": "4e365feb-97bb-48fa-9c50-32c289dd13dd",
    "collapsed": false,
    "execution": {
     "iopub.execute_input": "2022-08-13T00:35:49.629644Z",
     "iopub.status.busy": "2022-08-13T00:35:49.629194Z",
     "iopub.status.idle": "2022-08-13T00:35:50.498629Z",
     "shell.execute_reply": "2022-08-13T00:35:50.496417Z"
    },
    "jupyter": {
     "outputs_hidden": false
    },
    "papermill": {
     "duration": 0.887393,
     "end_time": "2022-08-13T00:35:50.501424",
     "exception": false,
     "start_time": "2022-08-13T00:35:49.614031",
     "status": "completed"
    },
    "tags": []
   },
   "outputs": [
    {
     "data": {
      "text/plain": [
       "<seaborn.axisgrid.FacetGrid at 0x7fbc21615890>"
      ]
     },
     "execution_count": 21,
     "metadata": {},
     "output_type": "execute_result"
    },
    {
     "data": {
      "image/png": "[encoded data removed]",
      "text/plain": [
       "<Figure size 418.25x360 with 1 Axes>"
      ]
     },
     "metadata": {
      "needs_background": "light"
     },
     "output_type": "display_data"
    }
   ],
   "source": [
    "# We count the data by output class DX and Age\n",
    "sns.catplot(x=\"dx\",\n",
    "            hue=\"age\",\n",
    "            kind=\"count\",\n",
    "            data=ham)"
   ]
  },
  {
   "cell_type": "code",
   "execution_count": 22,
   "id": "2bcf196f",
   "metadata": {
    "_cell_guid": "6bf59580-8ca6-41d5-8785-ad3f7491cc9f",
    "_uuid": "0471fb3f-65f7-40e7-97b0-d5058a90597f",
    "collapsed": false,
    "execution": {
     "iopub.execute_input": "2022-08-13T00:35:50.530850Z",
     "iopub.status.busy": "2022-08-13T00:35:50.530196Z",
     "iopub.status.idle": "2022-08-13T00:35:51.327914Z",
     "shell.execute_reply": "2022-08-13T00:35:51.327046Z"
    },
    "jupyter": {
     "outputs_hidden": false
    },
    "papermill": {
     "duration": 0.815231,
     "end_time": "2022-08-13T00:35:51.330337",
     "exception": false,
     "start_time": "2022-08-13T00:35:50.515106",
     "status": "completed"
    },
    "tags": []
   },
   "outputs": [
    {
     "data": {
      "text/plain": [
       "<seaborn.axisgrid.FacetGrid at 0x7fbc20f85090>"
      ]
     },
     "execution_count": 22,
     "metadata": {},
     "output_type": "execute_result"
    },
    {
     "data": {
      "image/png": "[encoded data removed]",
      "text/plain": [
       "<Figure size 476.25x360 with 1 Axes>"
      ]
     },
     "metadata": {
      "needs_background": "light"
     },
     "output_type": "display_data"
    }
   ],
   "source": [
    "# We count the data by output class DX and Age\n",
    "sns.catplot(x=\"dx\", \n",
    "            hue=\"localization\",\n",
    "            kind=\"count\",\n",
    "            data=ham)"
   ]
  },
  {
   "cell_type": "markdown",
   "id": "4b815f38",
   "metadata": {
    "_cell_guid": "8b27d43a-a5b8-4a4b-988d-fd2a6a386c6d",
    "_uuid": "8912545a-af60-4f7c-8d20-aa6d34716d01",
    "papermill": {
     "duration": 0.013254,
     "end_time": "2022-08-13T00:35:51.357258",
     "exception": false,
     "start_time": "2022-08-13T00:35:51.344004",
     "status": "completed"
    },
    "tags": []
   },
   "source": [
    "# Protential Problem when clustering\n",
    "There is a potential problems on clustering with this dataset, since clustering is measure by distance between samples within a certain maximum.\n",
    "In this dataset, 'nv' is a large and unequally scatteer class when applying k-means, other not-so-prominent clusters may be not be found. In other word, clustering is quite difficult on this dataset."
   ]
  }
 ],
 "metadata": {
  "kernelspec": {
   "display_name": "Python 3",
   "language": "python",
   "name": "python3"
  },
  "language_info": {
   "codemirror_mode": {
    "name": "ipython",
    "version": 3
   },
   "file_extension": ".py",
   "mimetype": "text/x-python",
   "name": "python",
   "nbconvert_exporter": "python",
   "pygments_lexer": "ipython3",
   "version": "3.7.12"
  },
  "papermill": {
   "default_parameters": {},
   "duration": 377.563212,
   "end_time": "2022-08-13T00:35:52.295562",
   "environment_variables": {},
   "exception": null,
   "input_path": "__notebook__.ipynb",
   "output_path": "__notebook__.ipynb",
   "parameters": {},
   "start_time": "2022-08-13T00:29:34.732350",
   "version": "2.3.4"
  }
 },
 "nbformat": 4,
 "nbformat_minor": 5
}
